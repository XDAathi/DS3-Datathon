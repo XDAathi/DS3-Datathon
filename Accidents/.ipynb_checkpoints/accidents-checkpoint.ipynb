{
 "cells": [
  {
   "cell_type": "code",
   "execution_count": null,
   "id": "e434519c-8e4d-4e91-a55a-680e1231c177",
   "metadata": {},
   "outputs": [
    {
     "data": {
      "text/plain": [
       "array([2, 1, 4, 3])"
      ]
     },
     "execution_count": 64,
     "metadata": {},
     "output_type": "execute_result"
    }
   ],
   "source": [
    "import pandas as pd\n",
    "import numpy as np\n",
    "\n",
    "# Load the CSV file (adjust the filename as needed)\n",
    "df = pd.read_csv(\"accidents.csv\")\n",
    "\n",
    "# Display initial data snapshot and basic info\n",
    "print(\"Initial data snapshot:\")\n",
    "print(df.head())\n",
    "print(\"\\nData info:\")\n",
    "print(df.info())\n",
    "\n",
    "# --- Missing Values Handling ---\n",
    "# For numeric columns, fill missing values with the median\n",
    "numeric_cols = df.select_dtypes(include=[np.number]).columns\n",
    "for col in numeric_cols:\n",
    "    median_val = df[col].median()\n",
    "    df[col].fillna(median_val, inplace=True)\n",
    "    print(f\"Filled missing values in numeric column '{col}' with median: {median_val}\")\n",
    "\n",
    "# For object (categorical) columns, fill missing values with a placeholder\n",
    "object_cols = df.select_dtypes(include=['object']).columns\n",
    "for col in object_cols:\n",
    "    df[col].fillna(\"Unknown\", inplace=True)\n",
    "    print(f\"Filled missing values in categorical column '{col}' with 'Unknown'\")\n",
    "\n",
    "# --- Boolean Conversion ---\n",
    "# Convert any boolean columns to integers (True -> 1, False -> 0)\n",
    "df = df.replace({True: 1, False: 0})\n",
    "\n",
    "# --- Inspecting Columns ---\n",
    "# Print unique values for each column to help decide on encoding\n",
    "print(\"\\nUnique values per column:\")\n",
    "for col in df.columns:\n",
    "    print(f\"{col}: {df[col].unique()}\")\n",
    "\n",
    "# --- Target Variable Handling ---\n",
    "# Assume the target is the \"Class\" column; adjust if your target is different.\n",
    "if 'Class' in df.columns:\n",
    "    # Factorize the target column to convert categorical labels to numeric codes\n",
    "    df['Class'] = pd.factorize(df['Class'])[0]\n",
    "    target_column = 'Class'\n",
    "else:\n",
    "    target_column = None\n",
    "\n",
    "# --- Feature Encoding ---\n",
    "# Separate features and (optionally) the target column\n",
    "if target_column:\n",
    "    features = df.drop(columns=[target_column])\n",
    "else:\n",
    "    features = df.copy()\n",
    "\n",
    "# Identify categorical features (object types) for one-hot encoding\n",
    "categorical_features = features.select_dtypes(include=['object']).columns.tolist()\n",
    "print(\"\\nCategorical features identified for encoding:\", categorical_features)\n",
    "\n",
    "# One-hot encode categorical features (drop_first=True avoids dummy variable trap)\n",
    "features_encoded = pd.get_dummies(features, columns=categorical_features, drop_first=True)\n",
    "\n",
    "# --- Reassemble Data ---\n",
    "# If a target exists, add it back and ensure it is the last column\n",
    "if target_column:\n",
    "    features_encoded[target_column] = df[target_column]\n",
    "    # Reorder columns so that the target is the last column\n",
    "    cols = [col for col in features_encoded.columns if col != target_column] + [target_column]\n",
    "    df_processed = features_encoded[cols]\n",
    "else:\n",
    "    df_processed = features_encoded\n",
    "\n",
    "# Display the processed DataFrame\n",
    "print(\"\\nProcessed data preview:\")\n",
    "print(df_processed.head())\n",
    "\n",
    "# Optionally, save the processed DataFrame to a new CSV file\n",
    "df_processed.to_csv(\"accidents_processed.csv\", index=False)\n"
   ]
  },
  {
   "cell_type": "code",
   "execution_count": null,
   "id": "1b006c28",
   "metadata": {},
   "outputs": [],
   "source": [
    "df.head()\n"
   ]
  }
 ],
 "metadata": {
  "kernelspec": {
   "display_name": "Python 3",
   "language": "python",
   "name": "python3"
  },
  "language_info": {
   "codemirror_mode": {
    "name": "ipython",
    "version": 3
   },
   "file_extension": ".py",
   "mimetype": "text/x-python",
   "name": "python",
   "nbconvert_exporter": "python",
   "pygments_lexer": "ipython3",
   "version": "3.10.4"
  }
 },
 "nbformat": 4,
 "nbformat_minor": 5
}
