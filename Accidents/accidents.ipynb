{
 "cells": [
  {
   "cell_type": "code",
   "execution_count": null,
   "id": "7e799011-1b37-4173-b5a7-8b0585fbe378",
   "metadata": {},
   "outputs": [
    {
     "name": "stdout",
     "output_type": "stream",
     "text": [
      "Initial data snapshot:\n",
      "          ID  Severity  Start_Lat   Start_Lng    End_Lat     End_Lng  \\\n",
      "0  A-2129372         2  38.770702  -90.275398        NaN         NaN   \n",
      "1  A-1443861         2  44.971004  -93.419037        NaN         NaN   \n",
      "2  A-4620777         2  45.843022 -121.061216  45.841329 -121.052174   \n",
      "3  A-2704247         2  35.300686  -80.806839        NaN         NaN   \n",
      "4  A-4843909         2  34.064580 -117.796451  34.070030 -117.807601   \n",
      "\n",
      "   Distance(mi)        Street         City            County  ... Station  \\\n",
      "0         0.000   Pershall Rd  Saint Louis  St. Louis County  ...   False   \n",
      "1         0.000       I-394 E      Hopkins          Hennepin  ...   False   \n",
      "2         0.451   Highway 142   Goldendale         Klickitat  ...   False   \n",
      "3         0.000      Nevin Rd    Charlotte       Mecklenburg  ...   False   \n",
      "4         0.741       CA-71 N       Pomona       Los Angeles  ...   False   \n",
      "\n",
      "    Stop Traffic_Calming Traffic_Signal Turning_Loop Sunrise_Sunset  \\\n",
      "0  False           False          False        False            Day   \n",
      "1  False           False          False        False            Day   \n",
      "2  False           False          False        False          Night   \n",
      "3  False           False          False        False          Night   \n",
      "4  False           False          False        False            Day   \n",
      "\n",
      "   Civil_Twilight  Nautical_Twilight  Astronomical_Twilight    Class  \n",
      "0             Day                Day                    Day  Source2  \n",
      "1             Day                Day                    Day  Source2  \n",
      "2           Night              Night                  Night  Source1  \n",
      "3           Night              Night                    Day  Source2  \n",
      "4             Day                Day                    Day  Source1  \n",
      "\n",
      "[5 rows x 43 columns]\n",
      "Filled missing values in numeric column 'Severity' with median: 2.0\n",
      "Filled missing values in numeric column 'Start_Lat' with median: 35.823078\n",
      "Filled missing values in numeric column 'Start_Lng' with median: -87.66289499999998\n",
      "Filled missing values in numeric column 'End_Lat' with median: 36.182425177716766\n"
     ]
    },
    {
     "name": "stderr",
     "output_type": "stream",
     "text": [
      "/var/folders/9p/37r_bxzx43lbmnmjw0dvtfx00000gn/T/ipykernel_8169/4084529379.py:23: FutureWarning: A value is trying to be set on a copy of a DataFrame or Series through chained assignment using an inplace method.\n",
      "The behavior will change in pandas 3.0. This inplace method will never work because the intermediate object on which we are setting values always behaves as a copy.\n",
      "\n",
      "For example, when doing 'df[col].method(value, inplace=True)', try using 'df.method({col: value}, inplace=True)' or df[col] = df[col].method(value) instead, to perform the operation inplace on the original object.\n",
      "\n",
      "\n",
      "  df[col].fillna(median_val, inplace=True)\n"
     ]
    },
    {
     "name": "stdout",
     "output_type": "stream",
     "text": [
      "Filled missing values in numeric column 'End_Lng' with median: -88.0270915\n",
      "Filled missing values in numeric column 'Distance(mi)' with median: 0.034\n",
      "Filled missing values in numeric column 'Temperature(F)' with median: 64.0\n",
      "Filled missing values in numeric column 'Wind_Chill(F)' with median: 62.0\n",
      "Filled missing values in numeric column 'Humidity(%)' with median: 67.0\n",
      "Filled missing values in numeric column 'Pressure(in)' with median: 29.86\n",
      "Filled missing values in numeric column 'Visibility(mi)' with median: 10.0\n",
      "Filled missing values in numeric column 'Wind_Speed(mph)' with median: 7.0\n",
      "Filled missing values in numeric column 'Precipitation(in)' with median: 0.0\n"
     ]
    },
    {
     "name": "stderr",
     "output_type": "stream",
     "text": [
      "/var/folders/9p/37r_bxzx43lbmnmjw0dvtfx00000gn/T/ipykernel_8169/4084529379.py:29: FutureWarning: A value is trying to be set on a copy of a DataFrame or Series through chained assignment using an inplace method.\n",
      "The behavior will change in pandas 3.0. This inplace method will never work because the intermediate object on which we are setting values always behaves as a copy.\n",
      "\n",
      "For example, when doing 'df[col].method(value, inplace=True)', try using 'df.method({col: value}, inplace=True)' or df[col] = df[col].method(value) instead, to perform the operation inplace on the original object.\n",
      "\n",
      "\n",
      "  df[col].fillna(\"Unknown\", inplace=True)\n"
     ]
    },
    {
     "name": "stdout",
     "output_type": "stream",
     "text": [
      "Filled missing values in categorical column 'ID' with 'Unknown'\n",
      "Filled missing values in categorical column 'Street' with 'Unknown'\n",
      "Filled missing values in categorical column 'City' with 'Unknown'\n",
      "Filled missing values in categorical column 'County' with 'Unknown'\n",
      "Filled missing values in categorical column 'State' with 'Unknown'\n",
      "Filled missing values in categorical column 'Zipcode' with 'Unknown'\n",
      "Filled missing values in categorical column 'Country' with 'Unknown'\n",
      "Filled missing values in categorical column 'Timezone' with 'Unknown'\n",
      "Filled missing values in categorical column 'Airport_Code' with 'Unknown'\n",
      "Filled missing values in categorical column 'Weather_Timestamp' with 'Unknown'\n",
      "Filled missing values in categorical column 'Wind_Direction' with 'Unknown'\n",
      "Filled missing values in categorical column 'Weather_Condition' with 'Unknown'\n",
      "Filled missing values in categorical column 'Sunrise_Sunset' with 'Unknown'\n",
      "Filled missing values in categorical column 'Civil_Twilight' with 'Unknown'\n",
      "Filled missing values in categorical column 'Nautical_Twilight' with 'Unknown'\n",
      "Filled missing values in categorical column 'Astronomical_Twilight' with 'Unknown'\n",
      "Filled missing values in categorical column 'Class' with 'Unknown'\n"
     ]
    },
    {
     "name": "stderr",
     "output_type": "stream",
     "text": [
      "/var/folders/9p/37r_bxzx43lbmnmjw0dvtfx00000gn/T/ipykernel_8169/4084529379.py:34: FutureWarning: Downcasting behavior in `replace` is deprecated and will be removed in a future version. To retain the old behavior, explicitly call `result.infer_objects(copy=False)`. To opt-in to the future behavior, set `pd.set_option('future.no_silent_downcasting', True)`\n",
      "  df = df.replace({True: 1, False: 0})\n"
     ]
    },
    {
     "name": "stdout",
     "output_type": "stream",
     "text": [
      "\n",
      "Categorical features for encoding: ['ID', 'Street', 'City', 'County', 'State', 'Zipcode', 'Country', 'Timezone', 'Airport_Code', 'Weather_Timestamp', 'Wind_Direction', 'Weather_Condition', 'Sunrise_Sunset', 'Civil_Twilight', 'Nautical_Twilight', 'Astronomical_Twilight']\n"
     ]
    },
    {
     "ename": "",
     "evalue": "",
     "output_type": "error",
     "traceback": [
      "\u001b[1;31mThe Kernel crashed while executing code in the current cell or a previous cell. \n",
      "\u001b[1;31mPlease review the code in the cell(s) to identify a possible cause of the failure. \n",
      "\u001b[1;31mClick <a href='https://aka.ms/vscodeJupyterKernelCrash'>here</a> for more info. \n",
      "\u001b[1;31mView Jupyter <a href='command:jupyter.viewOutput'>log</a> for further details."
     ]
    }
   ],
   "source": [
    "import pandas as pd\n",
    "import numpy as np\n",
    "from sklearn.model_selection import train_test_split\n",
    "from sklearn.ensemble import RandomForestClassifier\n",
    "from sklearn.metrics import accuracy_score, classification_report\n",
    "\n",
    "# -------------------------\n",
    "# Data Preprocessing for Binary Classification\n",
    "# -------------------------\n",
    "\n",
    "# Define only the essential columns (adjust as needed)\n",
    "cols_to_keep = [\n",
    "    \"Severity\", \"Start_Lat\", \"Start_Lng\", \"End_Lat\", \"End_Lng\",\n",
    "    \"Distance(mi)\", \"Temperature(F)\", \"Wind_Chill(F)\", \"Humidity(%)\",\n",
    "    \"Pressure(in)\", \"Visibility(mi)\", \"Wind_Speed(mph)\", \"Precipitation(in)\",\n",
    "    \"Class\"  # Target column for binary classification\n",
    "]\n",
    "\n",
    "# Load the CSV file using only the selected columns\n",
    "df = pd.read_csv(\"Classifying_accidents-train.csv\", usecols=cols_to_keep)\n",
    "\n",
    "# Display an initial snapshot of the data\n",
    "print(\"Initial Data Snapshot:\")\n",
    "print(df.head())\n",
    "\n",
    "# --- Clean Numeric Columns ---\n",
    "# Convert numeric columns (except the target) to numbers and fill missing values with the median\n",
    "numeric_cols = [col for col in cols_to_keep if col != \"Class\"]\n",
    "for col in numeric_cols:\n",
    "    df[col] = pd.to_numeric(df[col], errors='coerce')\n",
    "    median_val = df[col].median()\n",
    "    df[col].fillna(median_val, inplace=True)\n",
    "    print(f\"Filled missing values in '{col}' with median: {median_val}\")\n",
    "\n",
    "# --- Process Target Variable for Binary Classification ---\n",
    "# For the target \"Class\", map the values to 0 and 1.\n",
    "# If there are exactly two unique classes, map the first to 0 and the second to 1.\n",
    "# Otherwise, you can decide which class(es) to mark as 0 or 1.\n",
    "if df[\"Class\"].dtype == object:\n",
    "    unique_classes = df[\"Class\"].unique()\n",
    "    print(\"Unique classes before mapping:\", unique_classes)\n",
    "    if len(unique_classes) == 2:\n",
    "        mapping = {unique_classes[0]: 0, unique_classes[1]: 1}\n",
    "    else:\n",
    "        # Example: assign the first unique class as 0, and all others as 1.\n",
    "        mapping = {unique_classes[0]: 0}\n",
    "        for cls in unique_classes[1:]:\n",
    "            mapping[cls] = 1\n",
    "    df[\"Class\"] = df[\"Class\"].map(mapping)\n",
    "    print(\"Mapping for Class:\", mapping)\n",
    "else:\n",
    "    # If already numeric but with more than 2 unique values, threshold by the median:\n",
    "    if df[\"Class\"].nunique() > 2:\n",
    "        threshold = df[\"Class\"].median()\n",
    "        df[\"Class\"] = (df[\"Class\"] > threshold).astype(int)\n",
    "        print(\"Applied thresholding on numeric target using median.\")\n",
    "\n",
    "print(\"\\nProcessed Data Snapshot:\")\n",
    "print(df.head())\n",
    "\n",
    "# -------------------------\n",
    "# Model Training (Binary Classification)\n",
    "# -------------------------\n",
    "\n",
    "# Separate features and target\n",
    "X = df.drop(columns=[\"Class\"])\n",
    "y = df[\"Class\"]\n",
    "\n",
    "# Split the data into 80% training and 20% testing sets\n",
    "X_train, X_test, y_train, y_test = train_test_split(X, y, test_size=0.20, random_state=42)\n",
    "\n",
    "# Initialize and train the Random Forest Classifier\n",
    "clf = RandomForestClassifier(random_state=42)\n",
    "clf.fit(X_train, y_train)\n",
    "\n",
    "# Make predictions on the test set and evaluate\n",
    "y_pred = clf.predict(X_test)\n",
    "accuracy = accuracy_score(y_test, y_pred)\n",
    "print(\"\\nRandom Forest Classifier Accuracy:\", accuracy)\n",
    "print(\"\\nClassification Report:\")\n",
    "print(classification_report(y_test, y_pred))\n",
    "\n"
   ]
  },
  {
   "cell_type": "code",
   "execution_count": null,
   "id": "6c3ef1e2-02c5-4fc8-8db6-c30a63ffc941",
   "metadata": {},
   "outputs": [],
   "source": []
  }
 ],
 "metadata": {
  "kernelspec": {
   "display_name": "base",
   "language": "python",
   "name": "python3"
  },
  "language_info": {
   "codemirror_mode": {
    "name": "ipython",
    "version": 3
   },
   "file_extension": ".py",
   "mimetype": "text/x-python",
   "name": "python",
   "nbconvert_exporter": "python",
   "pygments_lexer": "ipython3",
   "version": "3.12.7"
  }
 },
 "nbformat": 4,
 "nbformat_minor": 5
}
